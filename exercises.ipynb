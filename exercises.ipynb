{
 "cells": [
  {
   "cell_type": "markdown",
   "id": "disabled-latin",
   "metadata": {},
   "source": [
    "# Packages"
   ]
  },
  {
   "cell_type": "code",
   "execution_count": null,
   "id": "deluxe-blake",
   "metadata": {},
   "outputs": [],
   "source": [
    "import numpy as np"
   ]
  },
  {
   "cell_type": "markdown",
   "id": "advised-tours",
   "metadata": {},
   "source": [
    "# TMSD and EB"
   ]
  },
  {
   "cell_type": "code",
   "execution_count": null,
   "id": "demanding-strike",
   "metadata": {},
   "outputs": [],
   "source": [
    "def TMSD(traj, t_lags):\n",
    "    '''Calculate the time average mean squared displacement of a set of trajectories'''\n",
    "    ttt = np.zeros_like(t_lags, dtype= float)\n",
    "    for idx, t in enumerate(t_lags):        \n",
    "        for p in range(len(traj)-t):\n",
    "            ttt[idx] += (traj[p]-traj[p+t])**2            \n",
    "        ttt[idx] /= len(traj)-t    \n",
    "    return ttt\n",
    "\n",
    "# This one is more efficient (?)\n",
    "def TMSD_array(trajs, t_lags):\n",
    "    ttt = np.zeros((trajs.shape[0], len(t_lags)))\n",
    "    for idx, t in enumerate(t_lags):        \n",
    "        for p in range(trajs.shape[1]-t):\n",
    "            ttt[:, idx] += (trajs[:, p]-trajs[:, p+t])**2            \n",
    "        ttt[:, idx] /= len(trajs)-t \n",
    "    return ttt\n",
    "\n",
    "def EB(trajs, t_lag):\n",
    "    eb = []\n",
    "    for T in range(t_lag+1, trajs.shape[1]):\n",
    "        tmsd = TMSD_array(trajs[:,:T], [t_lag])\n",
    "        bef = np.mean(np.array(tmsd)**2)\n",
    "        aft = np.mean(tmsd)**2\n",
    "\n",
    "        eb.append(bef/aft-1)\n",
    "    return eb"
   ]
  },
  {
   "cell_type": "markdown",
   "id": "designed-tiger",
   "metadata": {},
   "source": [
    "## Fitting tmsd"
   ]
  },
  {
   "cell_type": "code",
   "execution_count": null,
   "id": "talented-worth",
   "metadata": {},
   "outputs": [],
   "source": [
    "for traj in X1[0]:\n",
    "    t_lags = np.arange(1, max(10, int(0.1*len(traj))))\n",
    "\n",
    "    tmsd = TMSD(traj, t_lags)\n",
    "    P.append(np.polyfit(np.log(t_lags), np.log(tmsd),1)[0])\n",
    "\n"
   ]
  },
  {
   "cell_type": "markdown",
   "id": "communist-heath",
   "metadata": {},
   "source": [
    "## Effect of noise in TMSD"
   ]
  },
  {
   "cell_type": "code",
   "execution_count": 50,
   "id": "rocky-authority",
   "metadata": {},
   "outputs": [],
   "source": [
    "trajs = andi.andi_datasets().create_dataset(T=1000, N = 1000, exponents = [0.7], models = [2])"
   ]
  },
  {
   "cell_type": "code",
   "execution_count": 39,
   "id": "republican-session",
   "metadata": {},
   "outputs": [],
   "source": [
    "msd = np.mean(trajs[:,2:]**2, axis = 0)\n",
    "msd_n = np.mean((trajs[:,2:]+0.1*np.random.randn(1000,100))**2, axis = 0)"
   ]
  },
  {
   "cell_type": "code",
   "execution_count": 49,
   "id": "protective-academy",
   "metadata": {},
   "outputs": [
    {
     "data": {
      "text/plain": [
       "<matplotlib.legend.Legend at 0x7fa2f4c74e90>"
      ]
     },
     "execution_count": 49,
     "metadata": {},
     "output_type": "execute_result"
    },
    {
     "data": {
      "image/png": "[encoded data removed]",
      "text/plain": [
       "<Figure size 432x288 with 1 Axes>"
      ]
     },
     "metadata": {
      "needs_background": "light"
     },
     "output_type": "display_data"
    }
   ],
   "source": [
    "plt.loglog(msd/msd[1], label = 'No noise')\n",
    "for noise in [0.1, 0.3, 0.5,1]:\n",
    "    msd_n = np.mean((trajs[:,2:]+noise*np.random.randn(1000,1000))**2, axis = 0)\n",
    "    plt.loglog(msd_n/msd_n[1], label = f'$\\sigma$ = {noise}')\n",
    "\n",
    "plt.loglog(np.arange(100)**(0.7), label = r'$t^\\alpha$')\n",
    "plt.legend()"
   ]
  },
  {
   "cell_type": "markdown",
   "id": "facial-session",
   "metadata": {},
   "source": [
    "# Create a dataset from ANDI and use it in a CNN"
   ]
  },
  {
   "cell_type": "code",
   "execution_count": 74,
   "id": "eight-natural",
   "metadata": {},
   "outputs": [],
   "source": [
    "ad = andi.andi_datasets()\n",
    "N = 1000\n",
    "T = 20\n",
    "processes = [0,2]\n",
    "exponents = np.arange(0.1,1,0.05)\n",
    "\n",
    "dataset = ad.create_dataset(T =T, N = N, exponents = exponents, models = processes, \n",
    "                              load_trajectories = True, path = '/home/gmunoz/andi_data/datasets/', t_save=30)\n",
    "np.random.shuffle(dataset)"
   ]
  },
  {
   "cell_type": "markdown",
   "id": "interim-stack",
   "metadata": {},
   "source": [
    "Then, we separate the datasets in a training/test set dataset with ratio 80-20\n",
    "\n",
    "**Adapt the labels to normal/sub/super**"
   ]
  },
  {
   "cell_type": "code",
   "execution_count": 75,
   "id": "caroline-inspection",
   "metadata": {},
   "outputs": [
    {
     "data": {
      "text/plain": [
       "(7200, 20, 1)"
      ]
     },
     "execution_count": 75,
     "metadata": {},
     "output_type": "execute_result"
    }
   ],
   "source": [
    "# separating dataset\n",
    "ratio = int(0.8*dataset.shape[0])\n",
    "X_a = normalize(dataset[:ratio, 2:]).reshape(ratio, T, 1)\n",
    "X_e = normalize(dataset[ratio:, 2:]).reshape(N-ratio, T, 1)\n",
    "\n",
    "dataset[dataset[:,0] == 2, 0] = 1\n",
    "#dataset[dataset[:,0] == 4, 0] = 3\n",
    "Y_a = to_categorical(dataset[:ratio, 0])\n",
    "Y_e = to_categorical(dataset[ratio:, 0])\n",
    "\n",
    "expo_e = dataset[ratio:,1]\n",
    "\n",
    "X_e.shape"
   ]
  },
  {
   "cell_type": "markdown",
   "id": "supreme-consultancy",
   "metadata": {},
   "source": [
    "# Define a NN"
   ]
  },
  {
   "cell_type": "code",
   "execution_count": null,
   "id": "democratic-elements",
   "metadata": {},
   "outputs": [],
   "source": [
    "model = Sequential()\n",
    "\n",
    "\n",
    "model.add(Conv1D(filters=3, kernel_size=3 ,strides=1,   \n",
    "                 input_shape=(T, 1),\n",
    "                 kernel_initializer= 'uniform',      \n",
    "                 activation= 'relu', kernel_regularizer = regularizer_l2(l = 0.001)))\n",
    "model.add(BatchNormalization(axis=-1, momentum=0.99, epsilon=0.001))\n",
    "\n",
    "model.add(Conv1D(filters=8, kernel_size=5 ,strides=1,  \n",
    "                 kernel_initializer= 'uniform',      \n",
    "                 activation= 'relu', kernel_regularizer = regularizer_l2(l = 0.001)))\n",
    "model.add(BatchNormalization(axis=-1, momentum=0.99, epsilon=0.001))   \n",
    "\n",
    "model.add(Conv1D(filters=3, kernel_size=2 ,strides=1,  \n",
    "                 kernel_initializer= 'uniform',      \n",
    "                 activation= 'relu', kernel_regularizer = regularizer_l2(l = 0.001)))\n",
    "model.add(BatchNormalization(axis=-1, momentum=0.99, epsilon=0.001))\n",
    "\n",
    "model.add(Flatten())\n",
    "model.add(Dropout(0.5))\n",
    "model.add(Dense(64*2, activation='sigmoid', kernel_regularizer = regularizer_l2(l = 0.001)))\n",
    "model.add(BatchNormalization(axis=-1, momentum=0.99, epsilon=0.001))\n",
    "\n",
    "model.add(Dropout(0.5))\n",
    "model.add(Dense(64, activation='sigmoid'))\n",
    "model.add(BatchNormalization(axis=-1, momentum=0.99, epsilon=0.001))\n",
    "\n",
    "####### CHANGE THIS ##########\n",
    "model.add(Dense(len(processes), activation='softmax'))\n",
    "\n",
    "model.compile(loss='kullback_leibler_divergence',\n",
    "              optimizer=Adam(),\n",
    "              metrics=['accuracy'])\n"
   ]
  },
  {
   "cell_type": "code",
   "execution_count": null,
   "id": "exempt-dictionary",
   "metadata": {},
   "outputs": [],
   "source": []
  }
 ],
 "metadata": {
  "kernelspec": {
   "display_name": "Python 3",
   "language": "python",
   "name": "python3"
  },
  "language_info": {
   "codemirror_mode": {
    "name": "ipython",
    "version": 3
   },
   "file_extension": ".py",
   "mimetype": "text/x-python",
   "name": "python",
   "nbconvert_exporter": "python",
   "pygments_lexer": "ipython3",
   "version": "3.8.5"
  }
 },
 "nbformat": 4,
 "nbformat_minor": 5
}
